{
 "cells": [
  {
   "cell_type": "code",
   "execution_count": 1,
   "metadata": {},
   "outputs": [],
   "source": [
    "#include \"TH1.h\"\n",
    "#include \"TCanvas.h\"\n",
    "#include \"TStyle.h\"\n",
    "#include <iostream>\n",
    "#include <fstream>\n",
    "\n",
    "std::vector<float> read_in_data(std::string file_name = \"distribution.dat\") {\n",
    "    // Make a input stream object and open the file\n",
    "    ifstream data_file;\n",
    "    data_file.open(file_name, ios::out | ios::app | ios::binary); \n",
    "    \n",
    "    // Make a string varialbe to store each line of the file temperarolly\n",
    "    std::string line;\n",
    "    \n",
    "    // Make a vector that will be filled and returned\n",
    "    std::vector<float> histogram_data;\n",
    "    //Make sure the file is open\n",
    "    if(data_file.is_open())\n",
    "        // For each of the lines push the line to the back of the vector as a float\n",
    "        while(getline(data_file,line)) {\n",
    "            histogram_data.push_back(stof(line));\n",
    "        }\n",
    "    \n",
    "    // If the file is still open close it\n",
    "    if(data_file.is_open()) data_file.close();\n",
    "    \n",
    "    //return the data\n",
    "    return histogram_data;\n",
    "}"
   ]
  },
  {
   "cell_type": "code",
   "execution_count": 2,
   "metadata": {},
   "outputs": [],
   "source": [
    "// Auto will use the type information from the function to declare the type for the variable\n",
    "auto input_data = read_in_data();\n",
    "// same as:\n",
    "// std::vector<float> data = read_in_data();"
   ]
  },
  {
   "cell_type": "code",
   "execution_count": 3,
   "metadata": {},
   "outputs": [],
   "source": [
    "void plot_data(std::vector<float> input_data){\n",
    "    // TODO: \n",
    "    // 1) Take in the vector of data and fill a histogram\n",
    "    // 2) Draw it\n",
    "    // 3) Fit it with a gaussian\n",
    "}\n"
   ]
  },
  {
   "cell_type": "code",
   "execution_count": 4,
   "metadata": {},
   "outputs": [],
   "source": [
    "%jsroot on\n",
    "plot_data(input_data);"
   ]
  },
  {
   "cell_type": "code",
   "execution_count": null,
   "metadata": {},
   "outputs": [],
   "source": []
  }
 ],
 "metadata": {
  "kernelspec": {
   "display_name": "ROOT C++",
   "language": "c++",
   "name": "root"
  },
  "language_info": {
   "codemirror_mode": "text/x-c++src",
   "file_extension": ".C",
   "mimetype": " text/x-c++src",
   "name": "c++"
  }
 },
 "nbformat": 4,
 "nbformat_minor": 2
}
