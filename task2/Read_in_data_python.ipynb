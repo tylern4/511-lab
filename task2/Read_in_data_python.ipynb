{
 "cells": [
  {
   "cell_type": "code",
   "execution_count": 1,
   "metadata": {},
   "outputs": [],
   "source": [
    "%matplotlib inline\n",
    "import numpy as np\n",
    "import matplotlib.pyplot as plt"
   ]
  },
  {
   "cell_type": "code",
   "execution_count": 6,
   "metadata": {},
   "outputs": [],
   "source": [
    "# Reading the data is done for you\n",
    "def read_file(file_name = 'distribution.dat'):\n",
    "    # Read in data file distribution.dat\n",
    "    with open(file_name) as distribution:\n",
    "        #Stores the lines as an array of strings with each line an element\n",
    "        data = distribution.readlines()\n",
    "    \n",
    "    return data\n",
    "    "
   ]
  },
  {
   "cell_type": "code",
   "execution_count": 7,
   "metadata": {},
   "outputs": [],
   "source": [
    "# Reading in the data\n",
    "data = read_file('distribution.dat')\n",
    "\n",
    "## convert the data which is strings to floats\n",
    "input_data = [np.float(d) for d in data]\n",
    "## This is a python shorthand for filling an array with a for loop\n",
    "## Equivalent to:\n",
    "#\n",
    "# input_data = []\n",
    "# for d in data:\n",
    "#     input_data.append(np.float(d))\n"
   ]
  },
  {
   "cell_type": "code",
   "execution_count": 8,
   "metadata": {},
   "outputs": [],
   "source": [
    "def plot_data(data):\n",
    "    # TODO: \n",
    "    # 1) Take in the vector of data and make a histogram\n",
    "    # 2) Draw it\n",
    "    # 3) Fit it with a gaussian\n",
    "    \n",
    "    # Prints the first 10 values\n",
    "    # Change it to this to get the full list of data\n",
    "    # for d in data:\n",
    "    \n",
    "    print(len(data))\n",
    "    for d in data[0:10]:\n",
    "        print(d)\n",
    "        \n",
    "    return "
   ]
  },
  {
   "cell_type": "code",
   "execution_count": 9,
   "metadata": {},
   "outputs": [
    {
     "name": "stdout",
     "output_type": "stream",
     "text": [
      "999993\n",
      "0.842584\n",
      "0.917038\n",
      "0.920762\n",
      "0.943966\n",
      "1.03399\n",
      "1.03349\n",
      "1.01662\n",
      "0.874447\n",
      "0.911717\n",
      "0.832752\n"
     ]
    }
   ],
   "source": [
    "plot_data(input_data)"
   ]
  },
  {
   "cell_type": "code",
   "execution_count": null,
   "metadata": {},
   "outputs": [],
   "source": []
  }
 ],
 "metadata": {
  "kernelspec": {
   "display_name": "Python 3",
   "language": "python",
   "name": "python3"
  },
  "language_info": {
   "codemirror_mode": {
    "name": "ipython",
    "version": 3
   },
   "file_extension": ".py",
   "mimetype": "text/x-python",
   "name": "python",
   "nbconvert_exporter": "python",
   "pygments_lexer": "ipython3",
   "version": "3.6.9"
  }
 },
 "nbformat": 4,
 "nbformat_minor": 2
}
