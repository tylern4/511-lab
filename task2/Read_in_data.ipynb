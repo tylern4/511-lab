{
 "cells": [
  {
   "cell_type": "code",
   "execution_count": 1,
   "metadata": {},
   "outputs": [],
   "source": [
    "%matplotlib inline\n",
    "import numpy as np\n",
    "import matplotlib.pyplot as plt"
   ]
  },
  {
   "cell_type": "code",
   "execution_count": 2,
   "metadata": {},
   "outputs": [],
   "source": [
    "def read_file(file_name = 'distribution.dat'):\n",
    "    # Read in data file distribution.dat\n",
    "    with open(file_name) as distribution:\n",
    "        #Stores the lines as an array of strings with each line an element\n",
    "        data = distribution.readlines()\n",
    "    \n",
    "    return data\n",
    "    "
   ]
  },
  {
   "cell_type": "code",
   "execution_count": 3,
   "metadata": {},
   "outputs": [],
   "source": [
    "## convert the data which is strings to floats\n",
    "data = read_file()\n",
    "input_data = [np.float(d) for d in data]\n",
    "\n",
    "## This is a python shorthand for filling an array with a for loop\n",
    "## Equivalent to:\n",
    "#\n",
    "# input_data = []\n",
    "# for d in data:\n",
    "#     input_data.append(np.float(d))\n"
   ]
  },
  {
   "cell_type": "code",
   "execution_count": 4,
   "metadata": {},
   "outputs": [],
   "source": [
    "def plot_data(data):\n",
    "    # TODO: \n",
    "    # 1) Take in the vector of data and fill a histogram\n",
    "    # 2) Draw it\n",
    "    # 3) Fit it with a gaussian\n",
    "    return "
   ]
  },
  {
   "cell_type": "code",
   "execution_count": 5,
   "metadata": {},
   "outputs": [],
   "source": [
    "plot_data(input_data)"
   ]
  },
  {
   "cell_type": "code",
   "execution_count": null,
   "metadata": {},
   "outputs": [],
   "source": []
  }
 ],
 "metadata": {
  "kernelspec": {
   "display_name": "Python 3",
   "language": "python",
   "name": "python3"
  },
  "language_info": {
   "codemirror_mode": {
    "name": "ipython",
    "version": 3
   },
   "file_extension": ".py",
   "mimetype": "text/x-python",
   "name": "python",
   "nbconvert_exporter": "python",
   "pygments_lexer": "ipython3",
   "version": "3.6.8"
  }
 },
 "nbformat": 4,
 "nbformat_minor": 2
}
