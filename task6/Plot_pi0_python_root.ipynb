{
 "cells": [
  {
   "cell_type": "code",
   "execution_count": null,
   "metadata": {},
   "outputs": [],
   "source": [
    "%matplotlib inline\n",
    "\n",
    "import numpy as np\n",
    "import matplotlib.pyplot as plt\n",
    "\n",
    "from ROOT import TChain, TGraphErrors, TCanvas\n",
    "\n",
    "# In the files there are values for 2 photons \n",
    "# which is the most common decay of a pi0\n",
    "# https://en.wikipedia.org/wiki/Pion\n",
    "# \n",
    "# Photon1 px,py,pz,E => px1,py1,pz1,e1\n",
    "# Photon2 px,py,pz,E => px2,py2,pz2,e2\n",
    "# Photon1 + Photon2 = pi0\n",
    "\n",
    "\n",
    "# TODO: \n",
    "# Caclulate the mass \n",
    "# plot the mass\n",
    "# make cuts to get a better distrobution\n",
    "# Try to fit the mass peak"
   ]
  },
  {
   "cell_type": "code",
   "execution_count": null,
   "metadata": {},
   "outputs": [],
   "source": [
    "# This loads in the root file \n",
    "%jsroot on\n",
    "tree = TChain(\"data\")\n",
    "tree.Add(\"pi0.root\")"
   ]
  },
  {
   "cell_type": "code",
   "execution_count": null,
   "metadata": {
    "scrolled": false
   },
   "outputs": [],
   "source": [
    "# For each event \n",
    "# calculate the reconstructed mass of the pi0 from the two photons\n",
    "for i in range(0, tree.GetEntries()):\n",
    "    tree.GetEntry(i)"
   ]
  },
  {
   "cell_type": "code",
   "execution_count": null,
   "metadata": {},
   "outputs": [],
   "source": []
  }
 ],
 "metadata": {
  "kernelspec": {
   "display_name": "Python 3",
   "language": "python",
   "name": "python3"
  },
  "language_info": {
   "codemirror_mode": {
    "name": "ipython",
    "version": 3
   },
   "file_extension": ".py",
   "mimetype": "text/x-python",
   "name": "python",
   "nbconvert_exporter": "python",
   "pygments_lexer": "ipython3",
   "version": "3.6.9"
  }
 },
 "nbformat": 4,
 "nbformat_minor": 2
}
