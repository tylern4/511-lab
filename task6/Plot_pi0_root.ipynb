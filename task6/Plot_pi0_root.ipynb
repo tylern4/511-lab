{
 "cells": [
  {
   "cell_type": "code",
   "execution_count": null,
   "metadata": {},
   "outputs": [],
   "source": [
    "// TODO: "
   ]
  },
  {
   "cell_type": "code",
   "execution_count": null,
   "metadata": {},
   "outputs": [],
   "source": [
    "#include \"TTree.h\"\n",
    "#include \"TGraphErrors.h\"\n",
    "\n",
    "void read_from_root_file() {\n",
    "  // Setup a canvas so that we can plot it\n",
    "  TCanvas *c1 = new TCanvas(Form(\"can_%d\",rand()), \"Root Example\", 200, 10, 700, 500);\n",
    "  // load the tree from the file\n",
    "  TChain *tree = new TChain(\"data\");\n",
    "  // Add the file to the chain\n",
    "  // chains can load multiple files at the same time\n",
    "  tree->Add(\"pi0.root\");\n",
    "\n",
    "  int n = (int)tree->GetEntries();\n",
    "  // Loop over the events in the file\n",
    "  for (int i = 0; i < n; i++) {\n",
    "    tree->GetEntry(i);\n",
    "  }\n",
    "\n",
    "  c1->Draw();\n",
    "    \n",
    "}"
   ]
  },
  {
   "cell_type": "code",
   "execution_count": null,
   "metadata": {
    "scrolled": false
   },
   "outputs": [],
   "source": [
    "%jsroot on\n",
    "read_from_root_file()"
   ]
  }
 ],
 "metadata": {
  "kernelspec": {
   "display_name": "ROOT C++",
   "language": "c++",
   "name": "root"
  },
  "language_info": {
   "codemirror_mode": "text/x-c++src",
   "file_extension": ".C",
   "mimetype": " text/x-c++src",
   "name": "c++"
  }
 },
 "nbformat": 4,
 "nbformat_minor": 2
}
