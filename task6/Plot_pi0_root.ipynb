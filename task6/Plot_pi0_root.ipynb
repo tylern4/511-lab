{
 "cells": [
  {
   "cell_type": "code",
   "execution_count": null,
   "metadata": {},
   "outputs": [],
   "source": [
    "// In the files there are values for 2 photons \n",
    "// which is the most common decay of a pi0\n",
    "// https://en.wikipedia.org/wiki/Pion\n",
    "//\n",
    "// Photon1 px,py,pz,E => px1,py1,pz1,e1\n",
    "// Photon2 px,py,pz,E => px2,py2,pz2,e2\n",
    "// Photon1 + Photon2 = pi0\n",
    "\n",
    "\n",
    "// TODO: \n",
    "// Caclulate the mass \n",
    "// plot the mass\n",
    "// make cuts to get a better distrobution\n",
    "// Try to fit the mass peak"
   ]
  },
  {
   "cell_type": "code",
   "execution_count": null,
   "metadata": {},
   "outputs": [],
   "source": [
    "// Given two particles calculate the mass\n",
    "float mass(){ \n",
    "    return NAN; \n",
    "}"
   ]
  },
  {
   "cell_type": "code",
   "execution_count": null,
   "metadata": {},
   "outputs": [],
   "source": [
    "// Given two particles calculate the angle between them\n",
    "// This might be helpful to get a better peak\n",
    "float angle() { \n",
    "    return NAN; \n",
    "}"
   ]
  },
  {
   "cell_type": "code",
   "execution_count": null,
   "metadata": {},
   "outputs": [],
   "source": [
    "#include \"TTree.h\"\n",
    "#include \"TGraphErrors.h\"\n",
    "\n",
    "void plot_pi0_mass() {\n",
    "  // Setup a canvas so that we can plot it\n",
    "  TCanvas *c1 = new TCanvas(Form(\"can_%d\",rand()), \"Root Example\", 200, 10, 700, 500);\n",
    "  // load the tree from the file\n",
    "  TChain *tree = new TChain(\"data\");\n",
    "\n",
    "  // Add the file to the chain\n",
    "  tree->Add(\"pi0.root\");\n",
    "    \n",
    " // TODO: Load in the data from pi0.root\n",
    "\n",
    "  int n = (int)tree->GetEntries();\n",
    "  // Loop over the events in the file\n",
    "  for (int i = 0; i < n; i++) {\n",
    "    tree->GetEntry(i);\n",
    "    // For each event \n",
    "    // calculate the reconstructed mass of the pi0 from the two photons\n",
    "  }\n",
    "\n",
    "  c1->Draw();\n",
    "    \n",
    " std::cout << \"Done\" << std::endl;\n",
    "    \n",
    "}"
   ]
  },
  {
   "cell_type": "code",
   "execution_count": null,
   "metadata": {
    "scrolled": false
   },
   "outputs": [],
   "source": [
    "%jsroot on\n",
    "plot_pi0_mass()"
   ]
  }
 ],
 "metadata": {
  "kernelspec": {
   "display_name": "ROOT C++",
   "language": "c++",
   "name": "root"
  },
  "language_info": {
   "codemirror_mode": "text/x-c++src",
   "file_extension": ".C",
   "mimetype": " text/x-c++src",
   "name": "c++"
  }
 },
 "nbformat": 4,
 "nbformat_minor": 2
}
