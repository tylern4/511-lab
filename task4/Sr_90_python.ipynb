{
 "cells": [
  {
   "cell_type": "code",
   "execution_count": null,
   "metadata": {},
   "outputs": [],
   "source": [
    "%matplotlib inline\n",
    "import numpy as np\n",
    "import matplotlib.pyplot as plt\n",
    "import pandas as pd\n",
    "from scipy.special import factorial\n",
    "from scipy.optimize import curve_fit\n",
    "\n",
    "def poisson_fit(k, lamb):\n",
    "    \"\"\"poisson pdf, parameter lamb is the fit parameter\"\"\"\n",
    "    return (lamb**k/factorial(k)) * np.exp(-lamb)\n",
    "\n",
    "# TODO:\n",
    "# Download all the text data files from (http://boson.physics.sc.edu/~nick/root_data.html)\n",
    "# Make a histogram with all data from that file\n",
    "# Fit with a poison function\n",
    "# Extract mu\n",
    "# Plot mu versus Delta t from the different runs to calculate the detected event rate"
   ]
  },
  {
   "cell_type": "code",
   "execution_count": null,
   "metadata": {},
   "outputs": [],
   "source": [
    "data = pd.read_csv(\"50ms_10000s.txt\", names=[\"x\"])\n",
    "data.head()"
   ]
  },
  {
   "cell_type": "code",
   "execution_count": null,
   "metadata": {},
   "outputs": [],
   "source": [
    "# Turns the data into x and y values\n",
    "ys, xs = np.histogram(data.x, bins=1000, density=True)\n",
    "# xs gives both the right and left edge of the bin\n",
    "# We average over the values to get the bin centers\n",
    "xs = (xs[1:] + xs[:-1]) / 2\n",
    "\n",
    "# Plot the histogram\n",
    "\n",
    "# fit with curve_fit using the poisson_fit function provided\n",
    "# http://scipy-lectures.org/intro/scipy/auto_examples/plot_curve_fit.html\n",
    "\n",
    "# You may need to set an initial guess for curve_fit, p0.\n",
    "# I would suggest using the mean of the data as an initial guess p0=[np.mean(data.x)]\n",
    "\n",
    "# Plot the fit line\n",
    "# Put the value of mu in the legend\n",
    "# For a bonus also plot a vertical line with mu\n",
    "\n",
    "\n",
    "plt.show()"
   ]
  },
  {
   "cell_type": "code",
   "execution_count": null,
   "metadata": {},
   "outputs": [],
   "source": []
  }
 ],
 "metadata": {
  "kernelspec": {
   "display_name": "Python 3",
   "language": "python",
   "name": "python3"
  },
  "language_info": {
   "codemirror_mode": {
    "name": "ipython",
    "version": 3
   },
   "file_extension": ".py",
   "mimetype": "text/x-python",
   "name": "python",
   "nbconvert_exporter": "python",
   "pygments_lexer": "ipython3",
   "version": "3.6.8"
  }
 },
 "nbformat": 4,
 "nbformat_minor": 2
}
