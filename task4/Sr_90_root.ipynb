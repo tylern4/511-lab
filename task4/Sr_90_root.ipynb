{
 "cells": [
  {
   "cell_type": "code",
   "execution_count": null,
   "metadata": {},
   "outputs": [],
   "source": [
    "%jsroot on\n",
    "\n",
    "// TODO:\n",
    "// Download all the root files from (http://boson.physics.sc.edu/~nick/root_data.html)\n",
    "// Make a histogram with all data from that file\n",
    "// Fit with the poison function (https://root.cern.ch/root/htmldoc/guides/users-guide/FittingHistograms.html)\n",
    "// Extract mu\n",
    "// Plot mu versus Delta t from the different runs to calculate the detected event rate"
   ]
  },
  {
   "cell_type": "code",
   "execution_count": null,
   "metadata": {},
   "outputs": [],
   "source": [
    "#include \"TChain.h\"\n",
    "#include \"TF1.h\"\n",
    "#include \"TMath.h\"\n",
    "#include \"TROOT.h\"\n",
    "#include \"TTree.h\"\n",
    "#include <string>\n",
    "\n",
    "double poison(double *x, double *par) {\n",
    "  return par[0] * TMath::Poisson(x[0], par[1]);\n",
    "}"
   ]
  },
  {
   "cell_type": "code",
   "execution_count": null,
   "metadata": {},
   "outputs": [],
   "source": [
    "void Sr90_ana(std::string fin = \"5ms_1000s.root\") {\n",
    "  gStyle->SetOptStat(111);\n",
    "  gStyle->SetOptFit(111);\n",
    "\n",
    "  // Input filename\n",
    "  TChain *chain = new TChain(\"Sr90\");\n",
    "  chain->Add(fin.c_str());\n",
    "  // This creates a Poisson fitting function from the function created above\n",
    "  TF1 *pois = new TF1(\"pois\", poison, 0, 10, 2);\n",
    "\n",
    "  // Get values from the file\n",
    "  int _x1;\n",
    "  chain->SetBranchAddress(\"x1\", &_x1);\n",
    "\n",
    "  int num_of_events = (int)chain->GetEntries();\n",
    "  for (int current_event = 0; current_event < num_of_events; current_event++) {\n",
    "    // Get current event and print out the event rate\n",
    "    chain->GetEntry(current_event);\n",
    "    std::cout << _x1 << std::endl;\n",
    "  }\n",
    "\n",
    "  chain->Reset();\n",
    "}"
   ]
  },
  {
   "cell_type": "code",
   "execution_count": null,
   "metadata": {
    "scrolled": false
   },
   "outputs": [],
   "source": [
    "Sr90_ana(\"50ms_10000s.root\")"
   ]
  },
  {
   "cell_type": "code",
   "execution_count": null,
   "metadata": {},
   "outputs": [],
   "source": []
  }
 ],
 "metadata": {
  "kernelspec": {
   "display_name": "ROOT C++",
   "language": "c++",
   "name": "root"
  },
  "language_info": {
   "codemirror_mode": "text/x-c++src",
   "file_extension": ".C",
   "mimetype": " text/x-c++src",
   "name": "c++"
  }
 },
 "nbformat": 4,
 "nbformat_minor": 2
}
