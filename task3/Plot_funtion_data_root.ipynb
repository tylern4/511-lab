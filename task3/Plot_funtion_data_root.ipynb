{
 "cells": [
  {
   "cell_type": "code",
   "execution_count": null,
   "metadata": {},
   "outputs": [],
   "source": [
    "// TODO: \n",
    "// Download the root file (http://boson.physics.sc.edu/~nick/lab_511/task3Data/data.root)\n",
    "// Plot the points as an errorbar graph (https://root.cern.ch/doc/master/classTGraphErrors.html)\n",
    "// Fit the graph\n",
    "// Find where the graph would hit 0"
   ]
  },
  {
   "cell_type": "code",
   "execution_count": null,
   "metadata": {},
   "outputs": [],
   "source": [
    "#include \"TTree.h\"\n",
    "#include \"TGraphErrors.h\"\n",
    "\n",
    "void read_from_root_file() {\n",
    "  // Setup a canvas so that we can plot it\n",
    "  TCanvas *c1 = new TCanvas(Form(\"can_%d\",rand()), \"Root Example\", 200, 10, 700, 500);\n",
    "  // load the tree from the file\n",
    "  TChain *tree = new TChain(\"data\");\n",
    "  // Add the file to the chain\n",
    "  // chains can load multiple files at the same time\n",
    "  tree->Add(\"data.root\");\n",
    "\n",
    "  // Setup variables\n",
    "  float x = 0.0;\n",
    "  float y = 0.0;\n",
    "  float yerr = 0.0;\n",
    "  \n",
    "  // Tell then tree where to lead each variable from the file\n",
    "  tree->SetBranchAddress(\"x\", &x);\n",
    "  tree->SetBranchAddress(\"y\", &y);\n",
    "  tree->SetBranchAddress(\"yerr\", &yerr);\n",
    "\n",
    "  int n = (int)tree->GetEntries();\n",
    "  // Loop over the events in the file and print out the variables\n",
    "  for (int i = 0; i < n; i++) {\n",
    "    tree->GetEntry(i);\n",
    "    // Fill in your vectors or arrays here\n",
    "    std::cout << i << \" \" << x << \" \" << y << \" \" << yerr << std::endl;\n",
    "  }\n",
    "    \n",
    "  // Make a TGraphErrors object here with the vectors or arrays you made in the loop\n",
    "\n",
    "  c1->Draw();\n",
    "    \n",
    "}"
   ]
  },
  {
   "cell_type": "code",
   "execution_count": null,
   "metadata": {
    "scrolled": false
   },
   "outputs": [],
   "source": [
    "%jsroot on\n",
    "read_from_root_file()"
   ]
  }
 ],
 "metadata": {
  "kernelspec": {
   "display_name": "ROOT C++",
   "language": "c++",
   "name": "root"
  },
  "language_info": {
   "codemirror_mode": "text/x-c++src",
   "file_extension": ".C",
   "mimetype": " text/x-c++src",
   "name": "c++"
  }
 },
 "nbformat": 4,
 "nbformat_minor": 2
}
