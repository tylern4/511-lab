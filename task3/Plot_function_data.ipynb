{
 "cells": [
  {
   "cell_type": "code",
   "execution_count": null,
   "metadata": {},
   "outputs": [],
   "source": [
    "%matplotlib inline\n",
    "import numpy as np\n",
    "import matplotlib.pyplot as plt\n",
    "import pandas as pd\n",
    "from scipy.optimize import curve_fit\n",
    "https://docs.scipy.org/doc/numpy/reference/generated/numpy.polyfit.html\n",
    "\n",
    "# TODO: \n",
    "# Plot the points as an errorbar graph (https://matplotlib.org/3.1.1/api/_as_gen/matplotlib.pyplot.errorbar.html)\n",
    "# Fit the graph\n",
    "# Find where the graph would hit 0"
   ]
  },
  {
   "cell_type": "code",
   "execution_count": null,
   "metadata": {},
   "outputs": [],
   "source": [
    "# Pandas is a library to load data into python easily\n",
    "data_frame = pd.read_csv(\"data.dat\", names=[\"x\", \"y\", \"yerr\"])"
   ]
  },
  {
   "cell_type": "code",
   "execution_count": null,
   "metadata": {},
   "outputs": [],
   "source": [
    "# This will print the first few rows of the dataframe\n",
    "data_frame.head()"
   ]
  },
  {
   "cell_type": "code",
   "execution_count": null,
   "metadata": {},
   "outputs": [],
   "source": [
    "# To access a single column in the dataframe you can access it by it's label\n",
    "print(data_frame['y'])\n",
    "\n",
    "# For simple labels (no spaces or special characters) you can access it without the brackets \n",
    "print(data_frame.y)\n",
    "\n",
    "#It returns a vector, so get a single element you can use this notation\n",
    "print(data_frame.y[0])"
   ]
  },
  {
   "cell_type": "code",
   "execution_count": null,
   "metadata": {},
   "outputs": [],
   "source": [
    "# Plot the data with errorbars\n",
    "# https://matplotlib.org/3.1.1/api/_as_gen/matplotlib.pyplot.errorbar.html\n",
    "\n",
    "# fit with curve_fit or polyfit\n",
    "# https://docs.scipy.org/doc/numpy/reference/generated/numpy.polyfit.html\n",
    "# http://scipy-lectures.org/intro/numpy/auto_examples/plot_polyfit.html\n",
    "\n",
    "# Plot the fit line\n",
    "# Put the fit value in the legend\n",
    "# Find where the graph would hit 0\n",
    "\n"
   ]
  }
 ],
 "metadata": {
  "kernelspec": {
   "display_name": "Python 3",
   "language": "python",
   "name": "python3"
  },
  "language_info": {
   "codemirror_mode": {
    "name": "ipython",
    "version": 3
   },
   "file_extension": ".py",
   "mimetype": "text/x-python",
   "name": "python",
   "nbconvert_exporter": "python",
   "pygments_lexer": "ipython3",
   "version": "3.6.8"
  }
 },
 "nbformat": 4,
 "nbformat_minor": 2
}
