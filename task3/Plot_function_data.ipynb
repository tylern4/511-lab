{
 "cells": [
  {
   "cell_type": "code",
   "execution_count": 1,
   "metadata": {},
   "outputs": [],
   "source": [
    "%matplotlib inline\n",
    "import numpy as np\n",
    "import matplotlib.pyplot as plt\n",
    "import pandas as pd"
   ]
  },
  {
   "cell_type": "code",
   "execution_count": 2,
   "metadata": {},
   "outputs": [],
   "source": [
    "# Pandas is a library to load data into python easily\n",
    "data_frame = pd.read_csv(\"data.dat\",names=[\"x\", \"y\", \"yerr\"])"
   ]
  },
  {
   "cell_type": "code",
   "execution_count": 3,
   "metadata": {},
   "outputs": [
    {
     "data": {
      "text/html": [
       "<div>\n",
       "<style scoped>\n",
       "    .dataframe tbody tr th:only-of-type {\n",
       "        vertical-align: middle;\n",
       "    }\n",
       "\n",
       "    .dataframe tbody tr th {\n",
       "        vertical-align: top;\n",
       "    }\n",
       "\n",
       "    .dataframe thead th {\n",
       "        text-align: right;\n",
       "    }\n",
       "</style>\n",
       "<table border=\"1\" class=\"dataframe\">\n",
       "  <thead>\n",
       "    <tr style=\"text-align: right;\">\n",
       "      <th></th>\n",
       "      <th>x</th>\n",
       "      <th>y</th>\n",
       "      <th>yerr</th>\n",
       "    </tr>\n",
       "  </thead>\n",
       "  <tbody>\n",
       "    <tr>\n",
       "      <td>0</td>\n",
       "      <td>10</td>\n",
       "      <td>983.482501</td>\n",
       "      <td>34.750420</td>\n",
       "    </tr>\n",
       "    <tr>\n",
       "      <td>1</td>\n",
       "      <td>19</td>\n",
       "      <td>920.961719</td>\n",
       "      <td>27.307489</td>\n",
       "    </tr>\n",
       "    <tr>\n",
       "      <td>2</td>\n",
       "      <td>9</td>\n",
       "      <td>983.679501</td>\n",
       "      <td>17.036210</td>\n",
       "    </tr>\n",
       "    <tr>\n",
       "      <td>3</td>\n",
       "      <td>41</td>\n",
       "      <td>506.485219</td>\n",
       "      <td>14.365885</td>\n",
       "    </tr>\n",
       "    <tr>\n",
       "      <td>4</td>\n",
       "      <td>2</td>\n",
       "      <td>1009.873884</td>\n",
       "      <td>43.683312</td>\n",
       "    </tr>\n",
       "  </tbody>\n",
       "</table>\n",
       "</div>"
      ],
      "text/plain": [
       "    x            y       yerr\n",
       "0  10   983.482501  34.750420\n",
       "1  19   920.961719  27.307489\n",
       "2   9   983.679501  17.036210\n",
       "3  41   506.485219  14.365885\n",
       "4   2  1009.873884  43.683312"
      ]
     },
     "execution_count": 3,
     "metadata": {},
     "output_type": "execute_result"
    }
   ],
   "source": [
    "# This will print the first few rows of the dataframe\n",
    "data_frame.head()"
   ]
  },
  {
   "cell_type": "code",
   "execution_count": 21,
   "metadata": {},
   "outputs": [
    {
     "name": "stdout",
     "output_type": "stream",
     "text": [
      "0       983.482501\n",
      "1       920.961719\n",
      "2       983.679501\n",
      "3       506.485219\n",
      "4      1009.873884\n",
      "          ...     \n",
      "195     972.899456\n",
      "196     705.044571\n",
      "197     926.872430\n",
      "198     489.067121\n",
      "199     574.601894\n",
      "Name: y, Length: 200, dtype: float64\n",
      "0       983.482501\n",
      "1       920.961719\n",
      "2       983.679501\n",
      "3       506.485219\n",
      "4      1009.873884\n",
      "          ...     \n",
      "195     972.899456\n",
      "196     705.044571\n",
      "197     926.872430\n",
      "198     489.067121\n",
      "199     574.601894\n",
      "Name: y, Length: 200, dtype: float64\n",
      "34.75041988752529\n"
     ]
    }
   ],
   "source": [
    "# To access a single column in the dataframe you can access it by it's label\n",
    "print(data_frame['y'])\n",
    "\n",
    "# For simple labels (no spaces or special characters) you can access it without the brackets \n",
    "print(data_frame.y)\n",
    "\n",
    "#It returns an array so get a single element you can use this notation\n",
    "print(data_frame.yerr[0])"
   ]
  },
  {
   "cell_type": "code",
   "execution_count": 5,
   "metadata": {},
   "outputs": [],
   "source": [
    "# TODO: \n",
    "# Plot the points as an errorbar graph (https://matplotlib.org/3.1.1/api/_as_gen/matplotlib.pyplot.errorbar.html)\n",
    "# Fit the graph\n",
    "# Find where the graph would hit 0"
   ]
  },
  {
   "cell_type": "code",
   "execution_count": null,
   "metadata": {},
   "outputs": [],
   "source": []
  }
 ],
 "metadata": {
  "kernelspec": {
   "display_name": "Python 3",
   "language": "python",
   "name": "python3"
  },
  "language_info": {
   "codemirror_mode": {
    "name": "ipython",
    "version": 3
   },
   "file_extension": ".py",
   "mimetype": "text/x-python",
   "name": "python",
   "nbconvert_exporter": "python",
   "pygments_lexer": "ipython3",
   "version": "3.6.8"
  }
 },
 "nbformat": 4,
 "nbformat_minor": 2
}
