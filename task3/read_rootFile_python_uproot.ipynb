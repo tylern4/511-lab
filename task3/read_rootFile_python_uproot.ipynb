{
 "cells": [
  {
   "cell_type": "code",
   "execution_count": null,
   "metadata": {},
   "outputs": [],
   "source": [
    "%matplotlib inline\n",
    "\n",
    "import numpy as np\n",
    "import matplotlib.pyplot as plt\n",
    "import uproot\n",
    "\n",
    "from ROOT import TChain, TGraphErrors, TCanvas\n",
    "\n",
    "# TODO: \n",
    "# Download the root file (http://boson.physics.sc.edu/~nick/lab_511/task3Data/data.root)\n",
    "# Plot the points as an errorbar graph (https://root.cern.ch/doc/master/classTGraphErrors.html)\n",
    "# Fit the graph\n",
    "# Find where the graph would hit 0"
   ]
  },
  {
   "cell_type": "code",
   "execution_count": null,
   "metadata": {},
   "outputs": [],
   "source": [
    "# This loads in the root file \n",
    "%jsroot on\n",
    "tree = uproot.open(\"data.root\")[\"data\"]"
   ]
  },
  {
   "cell_type": "code",
   "execution_count": null,
   "metadata": {},
   "outputs": [],
   "source": [
    "# To access a single column in the data you can access it by it's label and the array function\n",
    "print(tree['y'].array())\n",
    "\n",
    "# It returns a vector, so get a single element you can use this notation\n",
    "print(tree['y'].array()[0])"
   ]
  },
  {
   "cell_type": "code",
   "execution_count": null,
   "metadata": {
    "scrolled": true
   },
   "outputs": [],
   "source": [
    "# Plot the data with errorbars\n",
    "# https://matplotlib.org/3.1.1/api/_as_gen/matplotlib.pyplot.errorbar.html\n",
    "\n",
    "# fit with curve_fit or polyfit\n",
    "# https://docs.scipy.org/doc/numpy/reference/generated/numpy.polyfit.html\n",
    "# http://scipy-lectures.org/intro/numpy/auto_examples/plot_polyfit.html\n",
    "\n",
    "# Plot the fit line\n",
    "# Put the fit value in the legend\n",
    "# Find where the graph would hit 0"
   ]
  },
  {
   "cell_type": "code",
   "execution_count": null,
   "metadata": {},
   "outputs": [],
   "source": []
  }
 ],
 "metadata": {
  "kernelspec": {
   "display_name": "Python 3",
   "language": "python",
   "name": "python3"
  },
  "language_info": {
   "codemirror_mode": {
    "name": "ipython",
    "version": 3
   },
   "file_extension": ".py",
   "mimetype": "text/x-python",
   "name": "python",
   "nbconvert_exporter": "python",
   "pygments_lexer": "ipython3",
   "version": "3.6.9"
  }
 },
 "nbformat": 4,
 "nbformat_minor": 2
}
