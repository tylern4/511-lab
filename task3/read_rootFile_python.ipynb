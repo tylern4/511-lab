{
 "cells": [
  {
   "cell_type": "code",
   "execution_count": null,
   "metadata": {},
   "outputs": [],
   "source": [
    "%matplotlib inline\n",
    "\n",
    "import numpy as np\n",
    "import matplotlib.pyplot as plt\n",
    "\n",
    "from ROOT import TChain, TGraphErrors, TCanvas\n",
    "\n",
    "# TODO: \n",
    "# Download the root file (http://boson.physics.sc.edu/~nick/lab_511/task3Data/data.root)\n",
    "# Plot the points as an errorbar graph (https://root.cern.ch/doc/master/classTGraphErrors.html)\n",
    "# Fit the graph\n",
    "# Find where the graph would hit 0"
   ]
  },
  {
   "cell_type": "code",
   "execution_count": null,
   "metadata": {},
   "outputs": [],
   "source": [
    "# This loads in the root file \n",
    "%jsroot on\n",
    "tree = TChain(\"data\")\n",
    "tree.Add(\"data.root\")"
   ]
  },
  {
   "cell_type": "code",
   "execution_count": null,
   "metadata": {
    "scrolled": false
   },
   "outputs": [],
   "source": [
    "# Loop over the events in the file and print out the variables\n",
    "for i in range(0, tree.GetEntries()):\n",
    "    tree.GetEntry(i)\n",
    "    # Fill in your vectors or arrays here\n",
    "    print(tree.x, tree.y, tree.yerr)\n",
    "\n",
    "    \n",
    "# Make a TGraphErrors object here with the vectors or arrays you made in the loop"
   ]
  },
  {
   "cell_type": "code",
   "execution_count": null,
   "metadata": {},
   "outputs": [],
   "source": []
  }
 ],
 "metadata": {
  "kernelspec": {
   "display_name": "Python 3",
   "language": "python",
   "name": "python3"
  },
  "language_info": {
   "codemirror_mode": {
    "name": "ipython",
    "version": 3
   },
   "file_extension": ".py",
   "mimetype": "text/x-python",
   "name": "python",
   "nbconvert_exporter": "python",
   "pygments_lexer": "ipython3",
   "version": "3.6.8"
  }
 },
 "nbformat": 4,
 "nbformat_minor": 2
}
