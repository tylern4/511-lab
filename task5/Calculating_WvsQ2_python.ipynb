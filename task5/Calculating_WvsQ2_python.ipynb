{
 "cells": [
  {
   "cell_type": "code",
   "execution_count": null,
   "metadata": {},
   "outputs": [],
   "source": [
    "%matplotlib inline\n",
    "import matplotlib.pyplot as plt\n",
    "from ROOT import TH2D, TH1D, TLorentzVector, TFile\n",
    "import pandas as pd\n",
    "import numpy as np"
   ]
  },
  {
   "cell_type": "code",
   "execution_count": null,
   "metadata": {},
   "outputs": [],
   "source": [
    "# A basic analysis program looking at\n",
    "# a electron beam on a proton target\n",
    "\n",
    "# Follow the TODO portions to get the analysis working properly\n",
    "\n",
    "# TODO: Create a 4 vector for the Electron beam.\n",
    "# Setup beam 4 vector\n",
    "# e_mu = TLorentzVector(???)\n",
    "\n",
    "#      Create a 4 vector for the Proton target.\n",
    "# p_mu = TLorentzVector(???)\n",
    "\n",
    "# TODO: Write functions to calculate W and Q^2\n",
    "# Calcuating Q^2\n",
    "# q^mu^2 = (e^mu - e^mu')^2 = -Q^2\n",
    "\n",
    "# Calcualting W\n",
    "# gamma = e^mu - e^mu'\n",
    "# P is proton target at rest\n",
    "# Gotten from s channel [(gamma - P)^2 == s == w^2]"
   ]
  },
  {
   "cell_type": "code",
   "execution_count": null,
   "metadata": {},
   "outputs": [],
   "source": [
    "def analyze(fin = \"511_lab_E_data.csv.gz\"):\n",
    "    BEAM = 4.81726  # Beam energy in GeV\n",
    "    MASS_P = 0.93827203  # Mass in GeV\n",
    "    MASS_E = 0.000511  # Mass in GeV\n",
    "\n",
    "    # TODO: \n",
    "    # Create the histograms you want to fill, either root or matplotlib\n",
    "    \n",
    "    data = pd.read_csv(fin, sep=',')\n",
    "\n",
    "    for event in data.itertuples():\n",
    "        #Create 4 vectors for the scattered electron\n",
    "        e_mu_prime = TLorentzVector()\n",
    "        # Fill the 4 vector with px,py,pz,M\n",
    "        e_mu_prime.SetXYZM(event.p * event.cx, \n",
    "                           event.p * event.cy,\n",
    "                           event.p * event.cz, \n",
    "                           MASS_E)\n",
    "        \n",
    "        print(e_mu_prime.E())\n",
    "        #TODO: Calculate W and Q^2 using the functions you created above and fill the histograms.\n",
    "\n",
    "    #TODO: Show the histograms"
   ]
  },
  {
   "cell_type": "code",
   "execution_count": null,
   "metadata": {
    "scrolled": false
   },
   "outputs": [],
   "source": [
    "analyze(\"511_lab_E_data.csv.gz\")"
   ]
  },
  {
   "cell_type": "code",
   "execution_count": null,
   "metadata": {},
   "outputs": [],
   "source": []
  }
 ],
 "metadata": {
  "kernelspec": {
   "display_name": "Python 3",
   "language": "python",
   "name": "python3"
  },
  "language_info": {
   "codemirror_mode": {
    "name": "ipython",
    "version": 3
   },
   "file_extension": ".py",
   "mimetype": "text/x-python",
   "name": "python",
   "nbconvert_exporter": "python",
   "pygments_lexer": "ipython3",
   "version": "3.6.9"
  }
 },
 "nbformat": 4,
 "nbformat_minor": 4
}
