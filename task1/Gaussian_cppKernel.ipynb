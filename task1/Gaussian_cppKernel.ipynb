{
 "cells": [
  {
   "cell_type": "code",
   "execution_count": null,
   "metadata": {},
   "outputs": [],
   "source": [
    "#include \"TH1.h\"\n",
    "#include \"TRandom3.h\"\n",
    "#include \"TCanvas.h\"\n",
    "#include \"TStyle.h\"\n",
    "#include <iostream>\n",
    "\n",
    "void Gausian(int num = 100000) {\n",
    "  // Varibles for the gaussian\n",
    "  double mean = 5.0;\n",
    "  double sigma = 1.0;\n",
    "  double thrw = 0;\n",
    "  // Create random generator\n",
    "  TRandom3 gen(rand());\n",
    "\n",
    "  // Create histogram to fill\n",
    "  TH1F *hist = new TH1F(Form(\"hist_%d\",rand()), \"Gaussian\", 100, 0.0, 10.0);\n",
    "  // Define the gui to display the graph and set the display options\n",
    "  TCanvas *c1 = new TCanvas(Form(\"can_%d\",rand()), \"Root Example\", 200, 10, 700, 500);\n",
    "  gStyle->SetOptStat(111);\n",
    "  gStyle->SetOptFit(111);\n",
    "\n",
    "  for (int i = 0; i < num; i++) {\n",
    "    // Throw a normal(gaussian) distrobution\n",
    "    thrw = gen.Gaus(mean, sigma);\n",
    "    // Fill in histogram\n",
    "    hist->Fill(thrw);\n",
    "  }\n",
    "  // Enter the canvas to draw\n",
    "  c1->cd();\n",
    "  // Draw histogram in gui\n",
    "  hist->Draw();\n",
    "  // Fit gaussian to the histogram\n",
    "  hist->Fit(\"gaus\");\n",
    "  c1->Draw();\n",
    "}"
   ]
  },
  {
   "cell_type": "code",
   "execution_count": null,
   "metadata": {},
   "outputs": [],
   "source": [
    "%jsroot on\n",
    "Gausian()"
   ]
  },
  {
   "cell_type": "code",
   "execution_count": null,
   "metadata": {},
   "outputs": [],
   "source": []
  }
 ],
 "metadata": {
  "kernelspec": {
   "display_name": "ROOT C++",
   "language": "c++",
   "name": "root"
  },
  "language_info": {
   "codemirror_mode": "text/x-c++src",
   "file_extension": ".C",
   "mimetype": " text/x-c++src",
   "name": "c++"
  }
 },
 "nbformat": 4,
 "nbformat_minor": 2
}
