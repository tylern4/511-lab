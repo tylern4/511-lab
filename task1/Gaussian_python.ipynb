{
 "cells": [
  {
   "cell_type": "code",
   "execution_count": null,
   "metadata": {},
   "outputs": [],
   "source": [
    "%matplotlib inline\n",
    "import numpy as np\n",
    "import matplotlib.pyplot as plt\n",
    "from scipy import stats"
   ]
  },
  {
   "cell_type": "code",
   "execution_count": null,
   "metadata": {},
   "outputs": [],
   "source": [
    "def gaussian(num = 100000):\n",
    "    # Varibles for the gaussian\n",
    "    mean = 5.0\n",
    "    sigma = 1.0\n",
    "\n",
    "    # Throw a normal(gaussian) distobution using numpy\n",
    "    thrown = np.random.normal(loc=mean, scale=sigma, size=num)\n",
    "    # Plot the randome data\n",
    "    plt.hist(thrown, bins=100, density=True)\n",
    "\n",
    "    # Fit a normal distribution to the data using scipy stats\n",
    "    mu, std = stats.norm.fit(thrown)\n",
    "\n",
    "    # Plot the fit\n",
    "    # Get the min and max from the histogram\n",
    "    xmin, xmax = plt.xlim()\n",
    "    # Make a set of xs to plot the distrobution\n",
    "    x = np.linspace(xmin, xmax, 100)\n",
    "    # Get the y values in the x raneg\n",
    "    y = stats.norm.pdf(x, mu, std)\n",
    "    # Plot the line and set the legend and show the plots\n",
    "    plt.plot(x, y, linewidth=2,\n",
    "         label=\"Fit results:\\n$\\mu$ = %.2f\\n$\\sigma$ = %.2f\" % (mu, std))\n",
    "    plt.legend()\n",
    "    plt.show()"
   ]
  },
  {
   "cell_type": "code",
   "execution_count": null,
   "metadata": {},
   "outputs": [],
   "source": [
    "gaussian()"
   ]
  },
  {
   "cell_type": "code",
   "execution_count": null,
   "metadata": {},
   "outputs": [],
   "source": []
  }
 ],
 "metadata": {
  "kernelspec": {
   "display_name": "Python 3",
   "language": "python",
   "name": "python3"
  },
  "language_info": {
   "codemirror_mode": {
    "name": "ipython",
    "version": 3
   },
   "file_extension": ".py",
   "mimetype": "text/x-python",
   "name": "python",
   "nbconvert_exporter": "python",
   "pygments_lexer": "ipython3",
   "version": "3.6.8"
  }
 },
 "nbformat": 4,
 "nbformat_minor": 2
}
